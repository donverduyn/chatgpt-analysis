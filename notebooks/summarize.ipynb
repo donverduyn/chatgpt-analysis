{
 "cells": [
  {
   "cell_type": "markdown",
   "metadata": {},
   "source": [
    "# Prompt Usage Estimation\n",
    "This notebook estimates the number of prompts sent over a subscription period."
   ]
  },
  {
   "cell_type": "code",
   "execution_count": 1,
   "metadata": {},
   "outputs": [
    {
     "name": "stdout",
     "output_type": "stream",
     "text": [
      "      conv_index          conversation_title  message_count\n",
      "0              0   Scalable income for INFPs            961\n",
      "1              1   Risks of flaunting wealth              4\n",
      "2              2  Belief and autonomy debate             78\n",
      "3              3   Steaming vs cooking pears             12\n",
      "4              4    Tech, money, and society            217\n",
      "...          ...                         ...            ...\n",
      "4418        4418                    New chat             13\n",
      "4419        4419                    New chat              9\n",
      "4420        4420                    New chat             11\n",
      "4421        4421                    New chat              9\n",
      "4422        4422                    New chat              7\n",
      "\n",
      "[4423 rows x 3 columns]\n",
      "Total conversations: 4423\n",
      "Total prompts: 130123\n"
     ]
    }
   ],
   "source": [
    "from shared.setup import add_root\n",
    "add_root()\n",
    "\n",
    "from services.Conversation import ChatGPTConversation  # updated API\n",
    "\n",
    "# Load conversations DataFrame\n",
    "api = ChatGPTConversation(\"./../assets/conversations.json\")\n",
    "conversations_df = api.get_conversations()\n",
    "print(conversations_df)\n",
    "\n",
    "# Basic stats\n",
    "totalConversations = len(conversations_df)\n",
    "totalPrompts = api.get_dataframe().shape[0]\n",
    "\n",
    "# Prompts per conversation\n",
    "df_messages = api.get_dataframe()\n",
    "\n",
    "print(f\"Total conversations: {totalConversations}\")\n",
    "print(f\"Total prompts: {totalPrompts}\")"
   ]
  }
 ],
 "metadata": {
  "kernelspec": {
   "display_name": "Python 3",
   "language": "python",
   "name": "python3"
  },
  "language_info": {
   "codemirror_mode": {
    "name": "ipython",
    "version": 3
   },
   "file_extension": ".py",
   "mimetype": "text/x-python",
   "name": "python",
   "nbconvert_exporter": "python",
   "pygments_lexer": "ipython3",
   "version": "3.11.12"
  }
 },
 "nbformat": 4,
 "nbformat_minor": 5
}
