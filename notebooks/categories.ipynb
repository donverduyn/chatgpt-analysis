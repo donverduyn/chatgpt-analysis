{
 "cells": [
  {
   "cell_type": "code",
   "execution_count": null,
   "id": "5c09939e",
   "metadata": {},
   "outputs": [],
   "source": [
    "from sentence_transformers import SentenceTransformer\n",
    "import pandas as pd\n",
    "from allPrompts import load_prompts\n",
    "\n",
    "df = load_prompts(\"../assets/conversations.json\")\n",
    "print(df.head())\n",
    "\n",
    "# Example: your conversations dataframe\n",
    "# df_titles = pd.DataFrame({'title': [convo['title'] for convo in data]})\n",
    "titles = df['title'].dropna().tolist()  # if df contains your conversation titles\n",
    "\n",
    "model = SentenceTransformer('all-MiniLM-L6-v2')\n",
    "embeddings = model.encode(titles, show_progress_bar=True)"
   ]
  }
 ],
 "metadata": {
  "language_info": {
   "name": "python"
  }
 },
 "nbformat": 4,
 "nbformat_minor": 5
}
