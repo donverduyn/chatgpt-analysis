{
 "cells": [
  {
   "cell_type": "code",
   "execution_count": 1,
   "id": "37556066",
   "metadata": {},
   "outputs": [
    {
     "name": "stdout",
     "output_type": "stream",
     "text": [
      "Using device: cuda\n"
     ]
    },
    {
     "data": {
      "text/html": [
       "\n",
       "<style>\n",
       ".cell-output-ipywidget-background {\n",
       "    background-color: transparent !important;  /* or transparent */\n",
       "}\n",
       "</style>\n"
      ],
      "text/plain": [
       "<IPython.core.display.HTML object>"
      ]
     },
     "metadata": {},
     "output_type": "display_data"
    },
    {
     "data": {
      "application/vnd.jupyter.widget-view+json": {
       "model_id": "c3fd5a1d5f654e5bb0f08de7ea8b7b10",
       "version_major": 2,
       "version_minor": 0
      },
      "text/plain": [
       "VBox(children=(Label(value='Encoding titles: 0 / 59076', style=LabelStyle(text_color='white')), FloatProgress(…"
      ]
     },
     "metadata": {},
     "output_type": "display_data"
    },
    {
     "name": "stdout",
     "output_type": "stream",
     "text": [
      "Done!\n"
     ]
    }
   ],
   "source": [
    "from sentence_transformers import SentenceTransformer\n",
    "import torch\n",
    "from pathlib import Path\n",
    "import sys\n",
    "import importlib\n",
    "from IPython.display import display, HTML\n",
    "from ipywidgets import FloatProgress, VBox, Label\n",
    "\n",
    "# --- Repo setup ---\n",
    "repo_root = Path.cwd().parent\n",
    "sys.path.insert(0, str(repo_root))\n",
    "\n",
    "import scripts.allPrompts as allPrompts\n",
    "\n",
    "importlib.reload(allPrompts)\n",
    "\n",
    "# --- Load prompts ---\n",
    "df = allPrompts.load_prompts(\"../assets/conversations.json\")\n",
    "titles = df[\"title\"].dropna().tolist()\n",
    "# print(df.head())\n",
    "\n",
    "# --- Device ---\n",
    "device = \"cuda\" if torch.cuda.is_available() else \"cpu\"\n",
    "print(\"Using device:\", device)\n",
    "\n",
    "# --- Load model ---\n",
    "model = SentenceTransformer(\"all-MiniLM-L6-v2\", device=device)\n",
    "\n",
    "# --- Custom progress bar setup ---\n",
    "# Optional: dark background with bright cyan bar\n",
    "display(\n",
    "    HTML(\n",
    "        \"\"\"\n",
    "<style>\n",
    ".cell-output-ipywidget-background {\n",
    "    background-color: transparent !important;  /* or transparent */\n",
    "}\n",
    "</style>\n",
    "\"\"\"\n",
    "    )\n",
    ")\n",
    "\n",
    "batch_size = 64  # tune this for your GPU memory\n",
    "embeddings = []\n",
    "\n",
    "progress_label = Label(value=f\"Encoding titles: 0 / {len(titles)}\")\n",
    "progress_label.style.text_color = \"white\"\n",
    "progress_bar = FloatProgress(value=0, min=0, max=len(titles))\n",
    "progress_bar.layout.width = \"100%\"\n",
    "progress_bar.style.bar_color = \"#4282ba\"\n",
    "display(VBox([progress_label, progress_bar]))\n",
    "\n",
    "for i in range(0, len(titles), batch_size):\n",
    "    batch = titles[i : i + batch_size]\n",
    "    batch_emb = model.encode(batch, convert_to_tensor=True)\n",
    "    embeddings.append(batch_emb)\n",
    "    progress_bar.value = min(i + batch_size, len(titles))\n",
    "    progress_label.value = (\n",
    "        f\"Encoding titles: {min(i + batch_size, len(titles))} / {len(titles)}\"\n",
    "    )\n",
    "\n",
    "embeddings = torch.cat(embeddings)\n",
    "print(\"Done!\")"
   ]
  }
 ],
 "metadata": {
  "kernelspec": {
   "display_name": "Python 3",
   "language": "python",
   "name": "python3"
  },
  "language_info": {
   "codemirror_mode": {
    "name": "ipython",
    "version": 3
   },
   "file_extension": ".py",
   "mimetype": "text/x-python",
   "name": "python",
   "nbconvert_exporter": "python",
   "pygments_lexer": "ipython3",
   "version": "3.11.12"
  }
 },
 "nbformat": 4,
 "nbformat_minor": 5
}
